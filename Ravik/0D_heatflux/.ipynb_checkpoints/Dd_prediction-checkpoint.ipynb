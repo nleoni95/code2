{
 "cells": [
  {
   "cell_type": "code",
   "execution_count": 1,
   "metadata": {},
   "outputs": [],
   "source": [
    "#on calibre la corrélation de Ravik.\n",
    "import numpy as np\n",
    "import pandas as pd\n",
    "import matplotlib.pyplot as plt\n",
    "import matplotlib as mpl\n",
    "import scipy.optimize as opt\n",
    "from pyXSteam.XSteam import XSteam\n",
    "steamTable = XSteam(XSteam.UNIT_SYSTEM_MKS)   # m/kg/sec/°C/bar/W \n",
    "\n",
    "mpl.rcParams['text.usetex']=True\n",
    "#mpl.rcParams['font.sans-serif']='Arial'\n",
    "mpl.rcParams['font.weight']='bold'\n",
    "#mpl.rcParams['axes.labelsize']= 33.0 #def value : 11.0\n",
    "#mpl.rcParams['axes.titlesize']= 28.0 #def value : 12.0\n",
    "mpl.rcParams['savefig.format']='png'\n",
    "mpl.rcParams['font.size']=22\n",
    "mpl.rcParams['legend.fontsize']=18"
   ]
  },
  {
   "cell_type": "code",
   "execution_count": 3,
   "metadata": {},
   "outputs": [],
   "source": [
    "def g(x):\n",
    "    #conversion de flux en DTsup pour les données Prodanovic.\n",
    "    return 14.5*x+11.6\n"
   ]
  },
  {
   "cell_type": "code",
   "execution_count": 4,
   "metadata": {},
   "outputs": [],
   "source": [
    "#données expérimentales. Format des données : P, V, Sub, Sup, Diam bulle\n",
    "#unités : bar, m/s, K, K, mm.\n",
    "\n",
    "sugrue_data=[\n",
    "    #tableau 3\n",
    "    [2,0.25,20,1,0.573],\n",
    "    [2,0.30,20,1,0.456],\n",
    "    [2,0.35,20,1,0.357],\n",
    "    [2,0.40,20,2,0.337],\n",
    "    [2,0.25,20,2,0.605],\n",
    "    [2,0.30,20,2,0.533],\n",
    "    [2,0.35,20,2,0.427],\n",
    "    [2,0.40,20,2,0.387],\n",
    "    [2,0.25,10,4,0.419],\n",
    "    [2,0.30,10,4,0.373],\n",
    "    [2,0.35,10,4,0.322],\n",
    "    [2,0.40,10,4,0.320],\n",
    "    [2,0.25,10,4,0.511],\n",
    "    [2,0.30,10,5,0.384],\n",
    "    [2,0.35,10,5,0.357],\n",
    "    [2,0.40,10,5,0.322],\n",
    "    [5,0.25,20,1,0.262],\n",
    "    [5,0.30,20,1,0.192],\n",
    "    [5,0.35,20,1,0.166],\n",
    "    [5,0.40,20,1,0.160],\n",
    "    [5,0.25,20,3,0.413],\n",
    "    [5,0.30,20,3,0.290],\n",
    "    [5,0.35,20,3,0.261],\n",
    "    [5,0.40,20,3,0.224],\n",
    "    [5,0.25,10,1,0.282],\n",
    "    [5,0.30,10,1,0.255],\n",
    "    [5,0.35,10,1,0.231],\n",
    "    [5,0.40,10,1,0.194],\n",
    "    [5,0.25,10,5,0.326],\n",
    "    [5,0.30,10,5,0.288],\n",
    "    [5,0.35,10,5,0.278],\n",
    "    [5,0.40,10,5,0.236],\n",
    "    #tableau 2\n",
    "    [1,0.25,20,2,0.615],\n",
    "    [1,0.30,20,2,0.528],\n",
    "    [1,0.35,20,2,0.429],\n",
    "    [1,0.40,20,2,0.389],\n",
    "    [1,0.25,20,5,0.632],\n",
    "    [1,0.30,20,4,0.560],\n",
    "    [1,0.35,20,4,0.453],\n",
    "    [1,0.40,20,4,0.434],\n",
    "    [1,0.25,10,3,0.623],\n",
    "    [1,0.30,10,3,0.503],\n",
    "    [1,0.35,10,3,0.432],\n",
    "    [1,0.40,10,3,0.370],\n",
    "    [1,0.25,10,6,0.668],\n",
    "    [1,0.30,10,6,0.518],\n",
    "    [1,0.35,10,6,0.440],\n",
    "    [1,0.40,10,6,0.358]\n",
    "]\n",
    "guan_data=[\n",
    "    [1,0.87,9.8,4.7,1.07],\n",
    "    [1,1.43,8.5,4.9,0.95],\n",
    "    [1,2.28,8.7,4.5,0.87],\n",
    "    [1,3.19,10.5,4.8,0.62],\n",
    "    [1,0.87,9.8,7.3,1.66],\n",
    "    [1,1.43,8.5,6.7,1.48],\n",
    "    [1,2.28,8.7,6.5,1.04],\n",
    "    [1,3.19,10.5,6.3,0.73],\n",
    "    [1,0.87,9.8,7.9,1.85],\n",
    "    [1,1.43,8.5,8.3,1.68],\n",
    "    [1,2.28,8.7,8.5,1.40],\n",
    "    [1,3.19,10.5,8.1,0.78]\n",
    "]\n",
    "prodanovic_data=[\n",
    "    #attention les wall temperatures ne sont pas précisées. On utilise le manuscrit de Ravik qui dit que le superheat va de 13 à 29 pour ce cas. j'interpole.\n",
    "    #flux 0.3 correspond à DTsup de 13,\n",
    "    #flux 1.2 correspond à DTsup de 29.\n",
    "    [1.05,0.42,30,g(0.3),1.33],\n",
    "    [1.05,0.83,30,g(0.5),1.08],\n",
    "    [1.05,0.83,30,g(0.6),1.18],\n",
    "    [1.05,0.83,30,g(0.8),0.94],\n",
    "    [1.05,0.83,30,g(0.9),0.89],\n",
    "    [1.05,0.42,30,g(0.6),0.93],\n",
    "    [1.05,0.42,30,g(0.8),0.80],\n",
    "    [1.05,0.42,30,g(0.9),0.80],\n",
    "    [1.05,0.84,20,g(0.6),1.24],\n",
    "    [1.05,0.84,20,g(0.7),1.06],\n",
    "    [1.05,0.42,20,g(0.3),2.19],\n",
    "    [1.05,0.42,20,g(0.6),1.53],\n",
    "    [1.05,0.42,20,g(0.7),1.25],\n",
    "    [1.05,0.08,20,g(0.2),2.18],\n",
    "    [1.05,0.08,20,g(0.3),2.68],\n",
    "    [1.05,0.42,10,g(0.3),1.98],\n",
    "    [1.05,0.08,10,g(0.1),1.85],\n",
    "    [1.05,0.08,10,g(0.2),2.48],\n",
    "    [1.05,0.08,10,g(0.3),1.82],\n",
    "    [1.05,0.08,30,g(0.2),1.14],\n",
    "    [1.05,0.83,40,g(0.6),0.77],\n",
    "    [1.05,0.83,40,g(0.9),0.59],\n",
    "    [1.05,0.83,40,g(1.2),0.75],\n",
    "    [1.05,0.83,60,g(0.6),0.66],\n",
    "    [1.05,0.83,60,g(1.2),0.68],\n",
    "    [2,0.41,20,g(0.4),0.5361],\n",
    "    [2,0.41,30,g(1),0.6769],\n",
    "    [2,0.41,30,g(0.8),0.6741],\n",
    "    [2,0.41,30,g(0.6),0.7193],\n",
    "    [2,0.41,30,g(0.4),0.9234],\n",
    "    [2,0.08,20,g(0.4),0.7569],\n",
    "    [2,0.82,20,g(0.4),0.6517],\n",
    "    [2,0.41,20,g(0.6),0.7121],\n",
    "    [2,0.82,20,g(0.6),0.6306],\n",
    "    [2,0.41,10,g(0.32),0.7343],\n",
    "    [2,0.82,10,g(0.36),0.7791],\n",
    "    [2,0.82,30,g(0.6),0.6821],\n",
    "    [2,0.82,30,g(0.8),0.5784],\n",
    "    [2,0.08,30,g(0.2),0.7907],\n",
    "    [3,0.82,29.9,g(0.6),0.4315],\n",
    "    [3,0.82,29.6,g(0.8),0.4033],\n",
    "    [3,0.82,29.5,g(1),0.4512],\n",
    "    [3,0.41,29.4,g(0.6),0.47],\n",
    "    [3,0.41,30.4,g(0.8),0.3662],\n",
    "    [3,0.41,31.7,g(1),0.3077],\n",
    "    [3,0.08,28.7,g(0.2),0.528],\n",
    "    [3,0.08,31,g(0.3),0.6043],\n",
    "    [3,0.82,20.2,g(0.6),0.4109],\n",
    "    [3,0.82,19.1,g(0.8),0.5119],\n",
    "    [3,0.41,18.9,g(0.4),0.439],\n",
    "    [3,0.41,22.5,g(0.6),0.363],\n",
    "    [3,0.08,19.8,g(0.2),0.55],\n",
    "    [3,0.08,20.8,g(0.3),0.5064],\n",
    "    [3,0.41,13.5,g(0.3),0.533],\n",
    "]\n",
    "\n",
    "guan_data=pd.DataFrame(guan_data,columns=['P','V','DTsub','DTsup','D'])\n",
    "sugrue_data=pd.DataFrame(sugrue_data,columns=['P','V','DTsub','DTsup','D'])\n",
    "prodanovic_data=pd.DataFrame(prodanovic_data,columns=['P','V','DTsub','DTsup','D'])\n"
   ]
  },
  {
   "cell_type": "code",
   "execution_count": 5,
   "metadata": {},
   "outputs": [],
   "source": [
    "concatenate_data=sugrue_data+guan_data+prodanovic_data\n",
    "exp_data=pd.DataFrame(concatenate_data,columns=['P','V','DTsub','DTsup','D'])"
   ]
  },
  {
   "cell_type": "code",
   "execution_count": 5,
   "metadata": {},
   "outputs": [
    {
     "data": {
      "text/plain": [
       "<AxesSubplot:xlabel='V', ylabel='D'>"
      ]
     },
     "execution_count": 5,
     "metadata": {},
     "output_type": "execute_result"
    },
    {
     "data": {
      "image/png": "[encoded data removed]",
      "text/plain": [
       "<Figure size 432x288 with 1 Axes>"
      ]
     },
     "metadata": {
      "needs_background": "light"
     },
     "output_type": "display_data"
    }
   ],
   "source": [
    "exp_data.plot.scatter('V','D')"
   ]
  },
  {
   "cell_type": "code",
   "execution_count": null,
   "metadata": {},
   "outputs": [],
   "source": []
  },
  {
   "cell_type": "code",
   "execution_count": 7,
   "metadata": {},
   "outputs": [],
   "source": [
    "#nouvelles fonctions\n",
    "\n",
    "def diameter_prediction(P,V,DTsub,DTsup,X):\n",
    "    #prédit un diamètre à partir des arguments. Il faudra mettre les paramètres aussi. X est de dimension 2\n",
    "    #prédiction en millimètres (x1000 à la fin)\n",
    "    Tsat=steamTable.tsat_p(P)#Tsat en °C\n",
    "    Tbulk=Tsat-DTsub\n",
    "    rhof=steamTable.rho_pt(P,Tbulk)\n",
    "    rhog=steamTable.rhoV_p(P)\n",
    "    cpf=steamTable.Cp_pt(P,Tbulk)*1000\n",
    "    hfg=(steamTable.hV_p(P)-steamTable.hL_p(P))*1000\n",
    "    \n",
    "    Jasub=rhof*cpf*DTsub/(rhog*hfg)\n",
    "    Jasup=rhof*cpf*DTsup/(rhog*hfg)\n",
    "    rhorel=(rhof-rhog)/rhog\n",
    "    return X[0]*(rhorel**0.27)*(Jasup**X[1])*((1+Jasub)**-0.3)*V**-0.26*1000\n",
    "    \n",
    "    \n",
    "    \n",
    "def least_squares(par):\n",
    "    #renvoie le carré de la somme des résidus par rapport aux données expérimentales.\n",
    "    ssr=0\n",
    "    for x in range(exp_data.shape[0]):\n",
    "        ssr+=(diameter_prediction(exp_data['P'][x],exp_data['V'][x],exp_data['DTsub'][x],exp_data['DTsup'][x],par)-exp_data['D'][x]*1E-3)**2\n",
    "    return ssr/exp_data.shape[0]\n",
    "\n",
    "def compute_d(par2d,exp_data):\n",
    "    #renvoie une liste de prédictions de diamètres expérimentaux.\n",
    "    #en paramètre : une liste de 2 paramètres qui sont t1 et t2\n",
    "    paramscode=[par2d[0],par2d[1]]\n",
    "    X=np.empty([exp_data.shape[0]])\n",
    "    for i in range(exp_data.shape[0]):\n",
    "        X[i]=diameter_prediction(exp_data['P'][i],exp_data['V'][i],exp_data['DTsub'][i],exp_data['DTsup'][i],paramscode)\n",
    "    return X\n",
    "\n",
    "def create_predictions(df,exp_data):\n",
    "    #génère les prédictions de diamètres expérimentaux à partir d'un dataframe contenant des samples de la postérieure.\n",
    "    #df contient les t1, t2, et chaque ligne est un sample postérieure. On prend les prédictions moyennes et variance.\n",
    "    means=np.zeros([exp_data.shape[0]])\n",
    "    q2p5=np.zeros([exp_data.shape[0]])\n",
    "    q97p5=np.zeros([exp_data.shape[0]])\n",
    "    for index,row in df.iterrows():\n",
    "        params=[row['t1'],row['t2']]\n",
    "        Dpred=compute_d(params,exp_data)\n",
    "        for i in range(exp_data.shape[0]):\n",
    "            means[i]+=Dpred[i]\n",
    "    means/=len(df)\n",
    "    for i in range(exp_data.shape[0]):\n",
    "        \n",
    "    \n",
    "    var=var/len(df)-np.array(means)**2\n",
    "    d={'mean':means,'q2p5':var,'q97p5':var}\n",
    "    X=pd.DataFrame(d)\n",
    "    return X\n",
    "    "
   ]
  },
  {
   "cell_type": "code",
   "execution_count": null,
   "metadata": {
    "scrolled": true
   },
   "outputs": [],
   "source": []
  },
  {
   "cell_type": "code",
   "execution_count": 12,
   "metadata": {
    "scrolled": false
   },
   "outputs": [
    {
     "data": {
      "image/png": "[encoded data removed]",
      "text/plain": [
       "<Figure size 432x432 with 1 Axes>"
      ]
     },
     "metadata": {
      "needs_background": "light"
     },
     "output_type": "display_data"
    },
    {
     "data": {
      "image/png": "[encoded data removed]",
      "text/plain": [
       "<Figure size 432x432 with 1 Axes>"
      ]
     },
     "metadata": {
      "needs_background": "light"
     },
     "output_type": "display_data"
    }
   ],
   "source": [
    "#simple plot de la corrélation de Ravik, pour voir sa capacité prédictive. après je pourrai coder celles qu'on obtient à partir d'un échantillon, ouais.\n",
    "coefsRavik=[18.9e-6,0.75]\n",
    "#print(compute_d(coefsRavik))\n",
    "posttest=pd.DataFrame(data=np.loadtxt(\"../NIGP_zeromean/results/fulldensities/kohpooled/samp5.gnu\")[:,1:3],columns=['t1','t2'])\n",
    "#on passe du domaine [0,1] aux vrais domaines\n",
    "posttest['t1']=(posttest['t1']+0.5)*18.9e-6\n",
    "posttest['t2']=(posttest['t2']+0.5)*0.75\n",
    "\n",
    "predssugrue=create_predictions(posttest,sugrue_data)\n",
    "predsguan=create_predictions(posttest,guan_data)\n",
    "predspro=create_predictions(posttest,prodanovic_data)\n",
    "\n",
    "#print(create_predictions(posttest))\n",
    "#print(compute_d(coefsRavik))\n",
    "fig,axs=plt.subplots(nrows=1,ncols=1,figsize=(6,6))\n",
    "\n",
    "xlim=[0,3]\n",
    "ylim=xlim\n",
    "#plot les données\n",
    "\n",
    "axs.set_xlabel(r'measured $D_d [mm]$')\n",
    "axs.set_ylabel(r'predicted $D_d [mm]$')\n",
    "axs.scatter(sugrue_data['D'],compute_d(coefsRavik,sugrue_data),label='Sugrue data')\n",
    "axs.scatter(guan_data['D'],compute_d(coefsRavik,guan_data),label='Guan data')\n",
    "axs.scatter(prodanovic_data['D'],compute_d(coefsRavik,prodanovic_data),label='Prodanovic data')\n",
    "\n",
    "x=np.linspace(xlim,100)\n",
    "axs.plot(x,x,color='black')\n",
    "axs.set_xlim(xlim)\n",
    "axs.set_ylim(ylim)\n",
    "axs.legend()\n",
    "\n",
    "\n",
    "fig,axs=plt.subplots(nrows=1,ncols=1,figsize=(6,6))\n",
    "\n",
    "\n",
    "\n",
    "axs.set_xlabel(r'measured $D_d [mm]$')\n",
    "axs.set_ylabel(r'predicted $D_d [mm]$')\n",
    "axs.errorbar(sugrue_data['D'],predssugrue['mean'],\n",
    "                yerr=2*np.sqrt(predssugrue['var']),\n",
    "                marker='o',ms=6,mfc='white',\n",
    "                capsize=3,linewidth=0,\n",
    "                elinewidth=1,\n",
    "                label='Sugrue data',fmt='o')\n",
    "axs.errorbar(guan_data['D'],predsguan['mean'],\n",
    "                yerr=2*np.sqrt(predsguan['var']),\n",
    "                marker='o',ms=6,mfc='white',\n",
    "                capsize=3,linewidth=0,elinewidth=1,\n",
    "                label='Guan data',fmt='o')\n",
    "axs.errorbar(prodanovic_data['D'],predspro['mean'],\n",
    "                yerr=2*np.sqrt(predspro['var']),\n",
    "                marker='o',ms=6,mfc='white',\n",
    "                capsize=3,linewidth=0,\n",
    "                elinewidth=1,\n",
    "                label='Prodanovic data')\n",
    "\n",
    "x=np.linspace(xlim,100)\n",
    "axs.plot(x,x,color='black')\n",
    "axs.set_xlim(xlim)\n",
    "axs.set_ylim(ylim)\n",
    "axs.legend()\n",
    "plt.tight_layout()\n",
    "\n"
   ]
  },
  {
   "cell_type": "code",
   "execution_count": 11,
   "metadata": {},
   "outputs": [
    {
     "ename": "NameError",
     "evalue": "name 'predFMP' is not defined",
     "output_type": "error",
     "traceback": [
      "\u001b[0;31m---------------------------------------------------------------------------\u001b[0m",
      "\u001b[0;31mNameError\u001b[0m                                 Traceback (most recent call last)",
      "\u001b[0;32m<ipython-input-11-c2597ffd42be>\u001b[0m in \u001b[0;36m<module>\u001b[0;34m\u001b[0m\n\u001b[0;32m----> 1\u001b[0;31m \u001b[0mprint\u001b[0m\u001b[0;34m(\u001b[0m\u001b[0mpredFMP\u001b[0m\u001b[0;34m)\u001b[0m\u001b[0;34m\u001b[0m\u001b[0;34m\u001b[0m\u001b[0m\n\u001b[0m",
      "\u001b[0;31mNameError\u001b[0m: name 'predFMP' is not defined"
     ]
    }
   ],
   "source": [
    "print(predFMP)"
   ]
  },
  {
   "cell_type": "code",
   "execution_count": 12,
   "metadata": {},
   "outputs": [
    {
     "ename": "NameError",
     "evalue": "name 'predFMP' is not defined",
     "output_type": "error",
     "traceback": [
      "\u001b[0;31m---------------------------------------------------------------------------\u001b[0m",
      "\u001b[0;31mNameError\u001b[0m                                 Traceback (most recent call last)",
      "\u001b[0;32m<ipython-input-12-c961a181b8f5>\u001b[0m in \u001b[0;36m<module>\u001b[0;34m\u001b[0m\n\u001b[1;32m     41\u001b[0m \u001b[0mplt\u001b[0m\u001b[0;34m.\u001b[0m\u001b[0mxlabel\u001b[0m\u001b[0;34m(\u001b[0m\u001b[0;34mr'$D_{mesure}$'\u001b[0m\u001b[0;34m)\u001b[0m\u001b[0;34m\u001b[0m\u001b[0;34m\u001b[0m\u001b[0m\n\u001b[1;32m     42\u001b[0m \u001b[0mplt\u001b[0m\u001b[0;34m.\u001b[0m\u001b[0mylabel\u001b[0m\u001b[0;34m(\u001b[0m\u001b[0;34mr'$D_{pred}$'\u001b[0m\u001b[0;34m)\u001b[0m\u001b[0;34m\u001b[0m\u001b[0;34m\u001b[0m\u001b[0m\n\u001b[0;32m---> 43\u001b[0;31m \u001b[0mplt\u001b[0m\u001b[0;34m.\u001b[0m\u001b[0merrorbar\u001b[0m\u001b[0;34m(\u001b[0m\u001b[0msugrue_Dmes\u001b[0m\u001b[0;34m,\u001b[0m\u001b[0msugrue_DpredFMP\u001b[0m\u001b[0;34m,\u001b[0m\u001b[0myerr\u001b[0m\u001b[0;34m=\u001b[0m\u001b[0;36m2\u001b[0m\u001b[0;34m*\u001b[0m\u001b[0mnp\u001b[0m\u001b[0;34m.\u001b[0m\u001b[0msqrt\u001b[0m\u001b[0;34m(\u001b[0m\u001b[0mpredFMP\u001b[0m\u001b[0;34m[\u001b[0m\u001b[0;34m'var'\u001b[0m\u001b[0;34m]\u001b[0m\u001b[0;34m[\u001b[0m\u001b[0;34m:\u001b[0m\u001b[0msugrue_df\u001b[0m\u001b[0;34m.\u001b[0m\u001b[0mshape\u001b[0m\u001b[0;34m[\u001b[0m\u001b[0;36m0\u001b[0m\u001b[0;34m]\u001b[0m\u001b[0;34m]\u001b[0m\u001b[0;34m)\u001b[0m\u001b[0;34m,\u001b[0m\u001b[0mlabel\u001b[0m\u001b[0;34m=\u001b[0m\u001b[0;34m'Sugrue data'\u001b[0m\u001b[0;34m,\u001b[0m\u001b[0mfmt\u001b[0m\u001b[0;34m=\u001b[0m\u001b[0;34m'o'\u001b[0m\u001b[0;34m)\u001b[0m\u001b[0;34m\u001b[0m\u001b[0;34m\u001b[0m\u001b[0m\n\u001b[0m\u001b[1;32m     44\u001b[0m \u001b[0mplt\u001b[0m\u001b[0;34m.\u001b[0m\u001b[0merrorbar\u001b[0m\u001b[0;34m(\u001b[0m\u001b[0mguan_Dmes\u001b[0m\u001b[0;34m,\u001b[0m\u001b[0mguan_DpredFMP\u001b[0m\u001b[0;34m,\u001b[0m\u001b[0myerr\u001b[0m\u001b[0;34m=\u001b[0m\u001b[0;36m2\u001b[0m\u001b[0;34m*\u001b[0m\u001b[0mnp\u001b[0m\u001b[0;34m.\u001b[0m\u001b[0msqrt\u001b[0m\u001b[0;34m(\u001b[0m\u001b[0mpredFMP\u001b[0m\u001b[0;34m[\u001b[0m\u001b[0;34m'var'\u001b[0m\u001b[0;34m]\u001b[0m\u001b[0;34m[\u001b[0m\u001b[0msugrue_df\u001b[0m\u001b[0;34m.\u001b[0m\u001b[0mshape\u001b[0m\u001b[0;34m[\u001b[0m\u001b[0;36m0\u001b[0m\u001b[0;34m]\u001b[0m\u001b[0;34m:\u001b[0m\u001b[0msugrue_df\u001b[0m\u001b[0;34m.\u001b[0m\u001b[0mshape\u001b[0m\u001b[0;34m[\u001b[0m\u001b[0;36m0\u001b[0m\u001b[0;34m]\u001b[0m\u001b[0;34m+\u001b[0m\u001b[0mguan_df\u001b[0m\u001b[0;34m.\u001b[0m\u001b[0mshape\u001b[0m\u001b[0;34m[\u001b[0m\u001b[0;36m0\u001b[0m\u001b[0;34m]\u001b[0m\u001b[0;34m]\u001b[0m\u001b[0;34m)\u001b[0m\u001b[0;34m,\u001b[0m\u001b[0mlabel\u001b[0m\u001b[0;34m=\u001b[0m\u001b[0;34m'Guan data'\u001b[0m\u001b[0;34m,\u001b[0m\u001b[0mfmt\u001b[0m\u001b[0;34m=\u001b[0m\u001b[0;34m'o'\u001b[0m\u001b[0;34m)\u001b[0m\u001b[0;34m\u001b[0m\u001b[0;34m\u001b[0m\u001b[0m\n\u001b[1;32m     45\u001b[0m \u001b[0mplt\u001b[0m\u001b[0;34m.\u001b[0m\u001b[0merrorbar\u001b[0m\u001b[0;34m(\u001b[0m\u001b[0mprodanovic_Dmes\u001b[0m\u001b[0;34m,\u001b[0m\u001b[0mprodanovic_DpredFMP\u001b[0m\u001b[0;34m,\u001b[0m\u001b[0myerr\u001b[0m\u001b[0;34m=\u001b[0m\u001b[0;36m2\u001b[0m\u001b[0;34m*\u001b[0m\u001b[0mnp\u001b[0m\u001b[0;34m.\u001b[0m\u001b[0msqrt\u001b[0m\u001b[0;34m(\u001b[0m\u001b[0mpredFMP\u001b[0m\u001b[0;34m[\u001b[0m\u001b[0;34m'var'\u001b[0m\u001b[0;34m]\u001b[0m\u001b[0;34m[\u001b[0m\u001b[0msugrue_df\u001b[0m\u001b[0;34m.\u001b[0m\u001b[0mshape\u001b[0m\u001b[0;34m[\u001b[0m\u001b[0;36m0\u001b[0m\u001b[0;34m]\u001b[0m\u001b[0;34m+\u001b[0m\u001b[0mguan_df\u001b[0m\u001b[0;34m.\u001b[0m\u001b[0mshape\u001b[0m\u001b[0;34m[\u001b[0m\u001b[0;36m0\u001b[0m\u001b[0;34m]\u001b[0m\u001b[0;34m:\u001b[0m\u001b[0;34m]\u001b[0m\u001b[0;34m)\u001b[0m\u001b[0;34m,\u001b[0m\u001b[0mlabel\u001b[0m\u001b[0;34m=\u001b[0m\u001b[0;34m'Prodanovic data'\u001b[0m\u001b[0;34m,\u001b[0m\u001b[0mfmt\u001b[0m\u001b[0;34m=\u001b[0m\u001b[0;34m'o'\u001b[0m\u001b[0;34m)\u001b[0m\u001b[0;34m\u001b[0m\u001b[0;34m\u001b[0m\u001b[0m\n",
      "\u001b[0;31mNameError\u001b[0m: name 'predFMP' is not defined"
     ]
    },
    {
     "data": {
      "image/png": "[encoded data removed]",
      "text/plain": [
       "<Figure size 864x432 with 1 Axes>"
      ]
     },
     "metadata": {
      "needs_background": "light"
     },
     "output_type": "display_data"
    }
   ],
   "source": [
    "#fait le plot des fit avec la solution Ravik\n",
    "concatenate_data=sugrue_data+guan_data+prodanovic_data\n",
    "sugrue_df=pd.DataFrame(sugrue_data,columns=['P','V','DTsub','DTsup','D'])\n",
    "guan_df=pd.DataFrame(guan_data,columns=['P','V','DTsub','DTsup','D'])\n",
    "prodanovic_df=pd.DataFrame(prodanovic_data,columns=['P','V','DTsub','DTsup','D'])\n",
    "\n",
    "sugrue_Dmes=np.zeros(sugrue_df.shape[0])\n",
    "sugrue_DpredFMP=np.zeros(sugrue_df.shape[0])\n",
    "sugrue_DpredKOH=np.zeros(sugrue_df.shape[0])\n",
    "\n",
    "for x in range(sugrue_df.shape[0]):\n",
    "    sugrue_Dmes[x]=sugrue_df['D'][x]*1E-3\n",
    "    #sugrue_DpredFMP[x]=predFMP['mean'][x]\n",
    "    #sugrue_DpredKOH[x]=predKOH['mean'][x]\n",
    "\n",
    "guan_Dmes=np.zeros(guan_df.shape[0])\n",
    "#guan_DpredFMP=np.zeros(guan_df.shape[0])\n",
    "#guan_DpredKOH=np.zeros(guan_df.shape[0])\n",
    "\n",
    "for x in range(guan_df.shape[0]):\n",
    "    guan_Dmes[x]=guan_df['D'][x]*1E-3\n",
    "    #guan_DpredFMP[x]=predFMP['mean'][x+sugrue_df.shape[0]]\n",
    "    #guan_DpredKOH[x]=predKOH['mean'][x+sugrue_df.shape[0]]\n",
    "    \n",
    "prodanovic_Dmes=np.zeros(prodanovic_df.shape[0])\n",
    "#prodanovic_DpredFMP=np.zeros(prodanovic_df.shape[0])\n",
    "#prodanovic_DpredKOH=np.zeros(prodanovic_df.shape[0])\n",
    "\n",
    "for x in range(prodanovic_df.shape[0]):\n",
    "    prodanovic_Dmes[x]=prodanovic_df['D'][x]*1E-3\n",
    "    #prodanovic_DpredFMP[x]=predFMP['mean'][x+sugrue_df.shape[0]+guan_df.shape[0]]\n",
    "    #prodanovic_DpredKOH[x]=predKOH['mean'][x+sugrue_df.shape[0]+guan_df.shape[0]]\n",
    "    \n",
    "lims=[0.0001,0.0018]\n",
    "plt.figure(figsize=(12,6))\n",
    "plt.subplot(121)\n",
    "#plt.xlim(lims)\n",
    "#plt.ylim(lims)\n",
    "plt.xscale(\"log\")\n",
    "plt.yscale(\"log\")\n",
    "plt.xlabel(r'$D_{mesure}$')\n",
    "plt.ylabel(r'$D_{pred}$')\n",
    "plt.errorbar(sugrue_Dmes,sugrue_DpredFMP,yerr=2*np.sqrt(predFMP['var'][:sugrue_df.shape[0]]),label='Sugrue data',fmt='o')\n",
    "plt.errorbar(guan_Dmes,guan_DpredFMP,yerr=2*np.sqrt(predFMP['var'][sugrue_df.shape[0]:sugrue_df.shape[0]+guan_df.shape[0]]),label='Guan data',fmt='o')\n",
    "plt.errorbar(prodanovic_Dmes,prodanovic_DpredFMP,yerr=2*np.sqrt(predFMP['var'][sugrue_df.shape[0]+guan_df.shape[0]:]),label='Prodanovic data',fmt='o')\n",
    "plt.title('pred FMP')\n",
    "plt.plot(lims,lims)\n",
    "plt.legend()\n",
    "plt.subplot(122)\n",
    "#plt.xlim(lims)\n",
    "#plt.ylim(lims)\n",
    "plt.xscale(\"log\")\n",
    "plt.yscale(\"log\")\n",
    "plt.xlabel(r'$D_{mesure}$')\n",
    "plt.ylabel(r'$D_{pred}$')\n",
    "plt.errorbar(sugrue_Dmes,sugrue_DpredKOH,yerr=2*np.sqrt(predKOH['var'][:sugrue_df.shape[0]]),label='Sugrue data',fmt='o')\n",
    "plt.errorbar(guan_Dmes,guan_DpredKOH,yerr=2*np.sqrt(predKOH['var'][sugrue_df.shape[0]:sugrue_df.shape[0]+guan_df.shape[0]]),label='Guan data',fmt='o')\n",
    "plt.errorbar(prodanovic_Dmes,prodanovic_DpredKOH,yerr=2*np.sqrt(predKOH['var'][sugrue_df.shape[0]+guan_df.shape[0]:]),label='Prodanovic data',fmt='o')\n",
    "plt.title('pred KOH')\n",
    "plt.plot(lims,lims)\n",
    "plt.legend()\n",
    "\n",
    "\n",
    "\n",
    "plt.show()"
   ]
  },
  {
   "cell_type": "code",
   "execution_count": 13,
   "metadata": {},
   "outputs": [],
   "source": [
    "#fait le plot des fit, pour voir si la corrélation marche bien.\n",
    "concatenate_data=sugrue_data+guan_data+prodanovic_data\n",
    "sugrue_df=pd.DataFrame(sugrue_data,columns=['P','V','DTsub','DTsup','D'])\n",
    "guan_df=pd.DataFrame(guan_data,columns=['P','V','DTsub','DTsup','D'])\n",
    "prodanovic_df=pd.DataFrame(prodanovic_data,columns=['P','V','DTsub','DTsup','D'])\n",
    "Ravikcoefs=[18.9E-6,0.27,0.75,-0.3,-0.26]"
   ]
  },
  {
   "cell_type": "code",
   "execution_count": 9,
   "metadata": {},
   "outputs": [
    {
     "ename": "NameError",
     "evalue": "name 'optresult' is not defined",
     "output_type": "error",
     "traceback": [
      "\u001b[0;31m---------------------------------------------------------------------------\u001b[0m",
      "\u001b[0;31mNameError\u001b[0m                                 Traceback (most recent call last)",
      "\u001b[0;32m<ipython-input-9-2418821b04ab>\u001b[0m in \u001b[0;36m<module>\u001b[0;34m\u001b[0m\n\u001b[1;32m      5\u001b[0m \u001b[0;32mfor\u001b[0m \u001b[0mx\u001b[0m \u001b[0;32min\u001b[0m \u001b[0mrange\u001b[0m\u001b[0;34m(\u001b[0m\u001b[0msugrue_df\u001b[0m\u001b[0;34m.\u001b[0m\u001b[0mshape\u001b[0m\u001b[0;34m[\u001b[0m\u001b[0;36m0\u001b[0m\u001b[0;34m]\u001b[0m\u001b[0;34m)\u001b[0m\u001b[0;34m:\u001b[0m\u001b[0;34m\u001b[0m\u001b[0;34m\u001b[0m\u001b[0m\n\u001b[1;32m      6\u001b[0m     \u001b[0msugrue_Dmes\u001b[0m\u001b[0;34m[\u001b[0m\u001b[0mx\u001b[0m\u001b[0;34m]\u001b[0m\u001b[0;34m=\u001b[0m\u001b[0msugrue_df\u001b[0m\u001b[0;34m[\u001b[0m\u001b[0;34m'D'\u001b[0m\u001b[0;34m]\u001b[0m\u001b[0;34m[\u001b[0m\u001b[0mx\u001b[0m\u001b[0;34m]\u001b[0m\u001b[0;34m*\u001b[0m\u001b[0;36m1E-3\u001b[0m\u001b[0;34m\u001b[0m\u001b[0;34m\u001b[0m\u001b[0m\n\u001b[0;32m----> 7\u001b[0;31m     \u001b[0msugrue_Dpred\u001b[0m\u001b[0;34m[\u001b[0m\u001b[0mx\u001b[0m\u001b[0;34m]\u001b[0m\u001b[0;34m=\u001b[0m\u001b[0mdiameter_prediction\u001b[0m\u001b[0;34m(\u001b[0m\u001b[0msugrue_df\u001b[0m\u001b[0;34m[\u001b[0m\u001b[0;34m'P'\u001b[0m\u001b[0;34m]\u001b[0m\u001b[0;34m[\u001b[0m\u001b[0mx\u001b[0m\u001b[0;34m]\u001b[0m\u001b[0;34m,\u001b[0m\u001b[0msugrue_df\u001b[0m\u001b[0;34m[\u001b[0m\u001b[0;34m'V'\u001b[0m\u001b[0;34m]\u001b[0m\u001b[0;34m[\u001b[0m\u001b[0mx\u001b[0m\u001b[0;34m]\u001b[0m\u001b[0;34m,\u001b[0m\u001b[0msugrue_df\u001b[0m\u001b[0;34m[\u001b[0m\u001b[0;34m'DTsub'\u001b[0m\u001b[0;34m]\u001b[0m\u001b[0;34m[\u001b[0m\u001b[0mx\u001b[0m\u001b[0;34m]\u001b[0m\u001b[0;34m,\u001b[0m\u001b[0msugrue_df\u001b[0m\u001b[0;34m[\u001b[0m\u001b[0;34m'DTsup'\u001b[0m\u001b[0;34m]\u001b[0m\u001b[0;34m[\u001b[0m\u001b[0mx\u001b[0m\u001b[0;34m]\u001b[0m\u001b[0;34m,\u001b[0m\u001b[0moptresult\u001b[0m\u001b[0;34m)\u001b[0m\u001b[0;34m\u001b[0m\u001b[0;34m\u001b[0m\u001b[0m\n\u001b[0m\u001b[1;32m      8\u001b[0m     \u001b[0msugrue_DpredRavik\u001b[0m\u001b[0;34m[\u001b[0m\u001b[0mx\u001b[0m\u001b[0;34m]\u001b[0m\u001b[0;34m=\u001b[0m\u001b[0mdiameter_prediction\u001b[0m\u001b[0;34m(\u001b[0m\u001b[0msugrue_df\u001b[0m\u001b[0;34m[\u001b[0m\u001b[0;34m'P'\u001b[0m\u001b[0;34m]\u001b[0m\u001b[0;34m[\u001b[0m\u001b[0mx\u001b[0m\u001b[0;34m]\u001b[0m\u001b[0;34m,\u001b[0m\u001b[0msugrue_df\u001b[0m\u001b[0;34m[\u001b[0m\u001b[0;34m'V'\u001b[0m\u001b[0;34m]\u001b[0m\u001b[0;34m[\u001b[0m\u001b[0mx\u001b[0m\u001b[0;34m]\u001b[0m\u001b[0;34m,\u001b[0m\u001b[0msugrue_df\u001b[0m\u001b[0;34m[\u001b[0m\u001b[0;34m'DTsub'\u001b[0m\u001b[0;34m]\u001b[0m\u001b[0;34m[\u001b[0m\u001b[0mx\u001b[0m\u001b[0;34m]\u001b[0m\u001b[0;34m,\u001b[0m\u001b[0msugrue_df\u001b[0m\u001b[0;34m[\u001b[0m\u001b[0;34m'DTsup'\u001b[0m\u001b[0;34m]\u001b[0m\u001b[0;34m[\u001b[0m\u001b[0mx\u001b[0m\u001b[0;34m]\u001b[0m\u001b[0;34m,\u001b[0m\u001b[0mRavikcoefs\u001b[0m\u001b[0;34m)\u001b[0m\u001b[0;34m\u001b[0m\u001b[0;34m\u001b[0m\u001b[0m\n\u001b[1;32m      9\u001b[0m \u001b[0;34m\u001b[0m\u001b[0m\n",
      "\u001b[0;31mNameError\u001b[0m: name 'optresult' is not defined"
     ]
    }
   ],
   "source": [
    "sugrue_Dmes=np.zeros(sugrue_df.shape[0])\n",
    "sugrue_Dpred=np.zeros(sugrue_df.shape[0])\n",
    "sugrue_DpredRavik=np.zeros(sugrue_df.shape[0])\n",
    "\n",
    "for x in range(sugrue_df.shape[0]):\n",
    "    sugrue_Dmes[x]=sugrue_df['D'][x]*1E-3\n",
    "    sugrue_Dpred[x]=diameter_prediction(sugrue_df['P'][x],sugrue_df['V'][x],sugrue_df['DTsub'][x],sugrue_df['DTsup'][x],optresult)\n",
    "    sugrue_DpredRavik[x]=diameter_prediction(sugrue_df['P'][x],sugrue_df['V'][x],sugrue_df['DTsub'][x],sugrue_df['DTsup'][x],Ravikcoefs)\n",
    "\n",
    "guan_Dmes=np.zeros(guan_df.shape[0])\n",
    "guan_Dpred=np.zeros(guan_df.shape[0])\n",
    "guan_DpredRavik=np.zeros(guan_df.shape[0])\n",
    "\n",
    "for x in range(guan_df.shape[0]):\n",
    "    guan_Dmes[x]=guan_df['D'][x]*1E-3\n",
    "    guan_Dpred[x]=diameter_prediction(guan_df['P'][x],guan_df['V'][x],guan_df['DTsub'][x],guan_df['DTsup'][x],optresult)\n",
    "    guan_DpredRavik[x]=diameter_prediction(guan_df['P'][x],guan_df['V'][x],guan_df['DTsub'][x],guan_df['DTsup'][x],Ravikcoefs)\n",
    "\n",
    "prodanovic_Dmes=np.zeros(prodanovic_df.shape[0])\n",
    "prodanovic_Dpred=np.zeros(prodanovic_df.shape[0])\n",
    "prodanovic_DpredRavik=np.zeros(prodanovic_df.shape[0])\n",
    "\n",
    "for x in range(prodanovic_df.shape[0]):\n",
    "    prodanovic_Dmes[x]=prodanovic_df['D'][x]*1E-3\n",
    "    prodanovic_Dpred[x]=diameter_prediction(prodanovic_df['P'][x],prodanovic_df['V'][x],prodanovic_df['DTsub'][x],prodanovic_df['DTsup'][x],optresult)\n",
    "    prodanovic_DpredRavik[x]=diameter_prediction(prodanovic_df['P'][x],prodanovic_df['V'][x],prodanovic_df['DTsub'][x],prodanovic_df['DTsup'][x],Ravikcoefs)\n",
    "\n",
    "\n",
    "    \n",
    "lims=[0.0001,0.0025]\n",
    "plt.figure(figsize=(12,6))\n",
    "plt.subplot(121)\n",
    "plt.xlim(lims)\n",
    "plt.ylim(lims)\n",
    "plt.xscale(\"log\")\n",
    "plt.yscale(\"log\")\n",
    "plt.scatter(sugrue_Dmes,sugrue_Dpred,label='Sugrue data')\n",
    "plt.scatter(guan_Dmes,guan_Dpred,label='Guan data')\n",
    "plt.scatter(prodanovic_Dmes,prodanovic_Dpred,label='Prodanovic data')\n",
    "plt.xlabel(r'$D_{mesure}$')\n",
    "plt.ylabel(r'$D_{pred}$')\n",
    "plt.title('Prédictions avec nos coefficients fittés')\n",
    "plt.legend()\n",
    "plt.plot(lims,lims,color='black')\n",
    "\n",
    "plt.subplot(122)\n",
    "plt.xlim(lims)\n",
    "plt.ylim(lims)\n",
    "plt.xscale(\"lin\")\n",
    "plt.yscale(\"lin\")\n",
    "plt.scatter(sugrue_Dmes,sugrue_DpredRavik,label='Sugrue data')\n",
    "plt.scatter(guan_Dmes,guan_DpredRavik,label='Guan data')\n",
    "plt.scatter(prodanovic_Dmes,prodanovic_DpredRavik,label='Prodanovic data')\n",
    "plt.xlabel(r'$D_{mesure}$')\n",
    "plt.ylabel(r'$D_{pred}$')\n",
    "plt.title('Prédictions avec les coefficients de Ravik')\n",
    "plt.legend()\n",
    "plt.plot(lims,lims,color='black')\n",
    "\n",
    "plt.savefig(\"correlation.eps\")\n",
    "\n",
    "\n",
    "plt.show()"
   ]
  },
  {
   "cell_type": "code",
   "execution_count": 10,
   "metadata": {},
   "outputs": [
    {
     "ename": "NameError",
     "evalue": "name 'X0' is not defined",
     "output_type": "error",
     "traceback": [
      "\u001b[0;31m---------------------------------------------------------------------------\u001b[0m",
      "\u001b[0;31mNameError\u001b[0m                                 Traceback (most recent call last)",
      "\u001b[0;32m<ipython-input-10-164f3b3fdc28>\u001b[0m in \u001b[0;36m<module>\u001b[0;34m\u001b[0m\n\u001b[0;32m----> 1\u001b[0;31m \u001b[0mres\u001b[0m\u001b[0;34m=\u001b[0m\u001b[0mopt\u001b[0m\u001b[0;34m.\u001b[0m\u001b[0mminimize\u001b[0m\u001b[0;34m(\u001b[0m\u001b[0mleast_squares\u001b[0m\u001b[0;34m,\u001b[0m\u001b[0mX0\u001b[0m\u001b[0;34m,\u001b[0m\u001b[0mmethod\u001b[0m\u001b[0;34m=\u001b[0m\u001b[0;34m'Nelder-Mead'\u001b[0m\u001b[0;34m,\u001b[0m\u001b[0moptions\u001b[0m\u001b[0;34m=\u001b[0m\u001b[0;34m{\u001b[0m\u001b[0;34m\"maxiter\"\u001b[0m\u001b[0;34m:\u001b[0m\u001b[0;36m5000\u001b[0m\u001b[0;34m}\u001b[0m\u001b[0;34m)\u001b[0m\u001b[0;34m\u001b[0m\u001b[0;34m\u001b[0m\u001b[0m\n\u001b[0m\u001b[1;32m      2\u001b[0m \u001b[0moptresult\u001b[0m\u001b[0;34m=\u001b[0m\u001b[0mres\u001b[0m\u001b[0;34m.\u001b[0m\u001b[0mx\u001b[0m\u001b[0;34m\u001b[0m\u001b[0;34m\u001b[0m\u001b[0m\n\u001b[1;32m      3\u001b[0m \u001b[0mprint\u001b[0m\u001b[0;34m(\u001b[0m\u001b[0moptresult\u001b[0m\u001b[0;34m)\u001b[0m\u001b[0;34m\u001b[0m\u001b[0;34m\u001b[0m\u001b[0m\n",
      "\u001b[0;31mNameError\u001b[0m: name 'X0' is not defined"
     ]
    }
   ],
   "source": [
    "res=opt.minimize(least_squares,X0,method='Nelder-Mead',options={\"maxiter\":5000})\n",
    "optresult=res.x\n",
    "print(optresult)"
   ]
  },
  {
   "cell_type": "code",
   "execution_count": null,
   "metadata": {},
   "outputs": [],
   "source": [
    "obs=pd.DataFrame(data=np.loadtxt(\"final_calibration/double_calibration_withmean/results/obs.gnu\"),columns=['x','alpha','diam'])\n",
    "predsnom=pd.DataFrame(data=np.loadtxt(\"final_calibration/double_calibration_withmean/results/fnominal.gnu\"),columns=['x','alpha','diam'])\n",
    "#loading des prédictionF avec alpha et diamètre\n",
    "alpha=pd.DataFrame(data=np.loadtxt(foldname+\"predsfbalphaF.gnu\"),columns=['x','useless','q25','q75','q2p5','q97p5','fmean'])\n",
    "diam=pd.DataFrame(data=np.loadtxt(foldname+\"predsfbdiamF.gnu\"),columns=['x','useless','q25','q75','q2p5','q97p5','fmean'])\n"
   ]
  }
 ],
 "metadata": {
  "kernelspec": {
   "display_name": "Python 3",
   "language": "python",
   "name": "python3"
  },
  "language_info": {
   "codemirror_mode": {
    "name": "ipython",
    "version": 3
   },
   "file_extension": ".py",
   "mimetype": "text/x-python",
   "name": "python",
   "nbconvert_exporter": "python",
   "pygments_lexer": "ipython3",
   "version": "3.8.5"
  }
 },
 "nbformat": 4,
 "nbformat_minor": 4
}
