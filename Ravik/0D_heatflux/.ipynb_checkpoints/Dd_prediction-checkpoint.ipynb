{
 "cells": [
  {
   "cell_type": "code",
   "execution_count": 2,
   "metadata": {},
   "outputs": [],
   "source": [
    "#on calibre la corrélation de Ravik.\n",
    "import numpy as np\n",
    "import pandas as pd\n",
    "import matplotlib.pyplot as plt\n",
    "import scipy.optimize as opt\n",
    "from pyXSteam.XSteam import XSteam\n",
    "steamTable = XSteam(XSteam.UNIT_SYSTEM_MKS)   # m/kg/sec/°C/bar/W "
   ]
  },
  {
   "cell_type": "code",
   "execution_count": 3,
   "metadata": {},
   "outputs": [],
   "source": [
    "def g(x):\n",
    "    #conversion de flux en DTsup pour les données Prodanovic.\n",
    "    return 14.5*x+11.6\n"
   ]
  },
  {
   "cell_type": "code",
   "execution_count": 4,
   "metadata": {},
   "outputs": [],
   "source": [
    "#données expérimentales. Format des données : P, V, Sub, Sup, D\n",
    "#unités : bar, m/s, K, K, mm.\n",
    "\n",
    "sugrue_data=[\n",
    "    #tableau 3\n",
    "    [2,0.25,20,1,0.573],\n",
    "    [2,0.30,20,1,0.456],\n",
    "    [2,0.35,20,1,0.357],\n",
    "    [2,0.40,20,2,0.337],\n",
    "    [2,0.25,20,2,0.605],\n",
    "    [2,0.30,20,2,0.533],\n",
    "    [2,0.35,20,2,0.427],\n",
    "    [2,0.40,20,2,0.387],\n",
    "    [2,0.25,10,4,0.419],\n",
    "    [2,0.30,10,4,0.373],\n",
    "    [2,0.35,10,4,0.322],\n",
    "    [2,0.40,10,4,0.320],\n",
    "    [2,0.25,10,4,0.511],\n",
    "    [2,0.30,10,5,0.384],\n",
    "    [2,0.35,10,5,0.357],\n",
    "    [2,0.40,10,5,0.322],\n",
    "    [5,0.25,20,1,0.262],\n",
    "    [5,0.30,20,1,0.192],\n",
    "    [5,0.35,20,1,0.166],\n",
    "    [5,0.40,20,1,0.160],\n",
    "    [5,0.25,20,3,0.413],\n",
    "    [5,0.30,20,3,0.290],\n",
    "    [5,0.35,20,3,0.261],\n",
    "    [5,0.40,20,3,0.224],\n",
    "    [5,0.25,10,1,0.282],\n",
    "    [5,0.30,10,1,0.255],\n",
    "    [5,0.35,10,1,0.231],\n",
    "    [5,0.40,10,1,0.194],\n",
    "    [5,0.25,10,5,0.326],\n",
    "    [5,0.30,10,5,0.288],\n",
    "    [5,0.35,10,5,0.278],\n",
    "    [5,0.40,10,5,0.236],\n",
    "    #tableau 2\n",
    "    [1,0.25,20,2,0.615],\n",
    "    [1,0.30,20,2,0.528],\n",
    "    [1,0.35,20,2,0.429],\n",
    "    [1,0.40,20,2,0.389],\n",
    "    [1,0.25,20,5,0.632],\n",
    "    [1,0.30,20,4,0.560],\n",
    "    [1,0.35,20,4,0.453],\n",
    "    [1,0.40,20,4,0.434],\n",
    "    [1,0.25,10,3,0.623],\n",
    "    [1,0.30,10,3,0.503],\n",
    "    [1,0.35,10,3,0.432],\n",
    "    [1,0.40,10,3,0.370],\n",
    "    [1,0.25,10,6,0.668],\n",
    "    [1,0.30,10,6,0.518],\n",
    "    [1,0.35,10,6,0.440],\n",
    "    [1,0.40,10,6,0.358]\n",
    "]\n",
    "guan_data=[\n",
    "    [1,0.87,9.8,4.7,1.07],\n",
    "    [1,1.43,8.5,4.9,0.95],\n",
    "    [1,2.28,8.7,4.5,0.87],\n",
    "    [1,3.19,10.5,4.8,0.62],\n",
    "    [1,0.87,9.8,7.3,1.66],\n",
    "    [1,1.43,8.5,6.7,1.48],\n",
    "    [1,2.28,8.7,6.5,1.04],\n",
    "    [1,3.19,10.5,6.3,0.73],\n",
    "    [1,0.87,9.8,7.9,1.85],\n",
    "    [1,1.43,8.5,8.3,1.68],\n",
    "    [1,2.28,8.7,8.5,1.40],\n",
    "    [1,3.19,10.5,8.1,0.78]\n",
    "]\n",
    "prodanovic_data=[\n",
    "    #attention les wall temperatures ne sont pas précisées. On utilise le manuscrit de Ravik qui dit que le superheat va de 13 à 29 pour ce cas. j'interpole.\n",
    "    #flux 0.3 correspond à DTsup de 13,\n",
    "    #flux 1.2 correspond à DTsup de 29.\n",
    "    [1.05,0.42,30,g(0.3),1.33],\n",
    "    [1.05,0.83,30,g(0.5),1.08],\n",
    "    [1.05,0.83,30,g(0.6),1.18],\n",
    "    [1.05,0.83,30,g(0.8),0.94],\n",
    "    [1.05,0.83,30,g(0.9),0.89],\n",
    "    [1.05,0.42,30,g(0.6),0.93],\n",
    "    [1.05,0.42,30,g(0.8),0.80],\n",
    "    [1.05,0.42,30,g(0.9),0.80],\n",
    "    [1.05,0.84,20,g(0.6),1.24],\n",
    "    [1.05,0.84,20,g(0.7),1.06],\n",
    "    [1.05,0.42,20,g(0.3),2.19],\n",
    "    [1.05,0.42,20,g(0.6),1.53],\n",
    "    [1.05,0.42,20,g(0.7),1.25],\n",
    "    [1.05,0.08,20,g(0.2),2.18],\n",
    "    [1.05,0.08,20,g(0.3),2.68],\n",
    "    [1.05,0.42,10,g(0.3),1.98],\n",
    "    [1.05,0.08,10,g(0.1),1.85],\n",
    "    [1.05,0.08,10,g(0.2),2.48],\n",
    "    [1.05,0.08,10,g(0.3),1.82],\n",
    "    [1.05,0.08,30,g(0.2),1.14],\n",
    "    [1.05,0.83,40,g(0.6),0.77],\n",
    "    [1.05,0.83,40,g(0.9),0.59],\n",
    "    [1.05,0.83,40,g(1.2),0.75],\n",
    "    [1.05,0.83,60,g(0.6),0.66],\n",
    "    [1.05,0.83,60,g(1.2),0.68],\n",
    "    [2,0.41,20,g(0.4),0.5361],\n",
    "    [2,0.41,30,g(1),0.6769],\n",
    "    [2,0.41,30,g(0.8),0.6741],\n",
    "    [2,0.41,30,g(0.6),0.7193],\n",
    "    [2,0.41,30,g(0.4),0.9234],\n",
    "    [2,0.08,20,g(0.4),0.7569],\n",
    "    [2,0.82,20,g(0.4),0.6517],\n",
    "    [2,0.41,20,g(0.6),0.7121],\n",
    "    [2,0.82,20,g(0.6),0.6306],\n",
    "    [2,0.41,10,g(0.32),0.7343],\n",
    "    [2,0.82,10,g(0.36),0.7791],\n",
    "    [2,0.82,30,g(0.6),0.6821],\n",
    "    [2,0.82,30,g(0.8),0.5784],\n",
    "    [2,0.08,30,g(0.2),0.7907],\n",
    "    [3,0.82,29.9,g(0.6),0.4315],\n",
    "    [3,0.82,29.6,g(0.8),0.4033],\n",
    "    [3,0.82,29.5,g(1),0.4512],\n",
    "    [3,0.41,29.4,g(0.6),0.47],\n",
    "    [3,0.41,30.4,g(0.8),0.3662],\n",
    "    [3,0.41,31.7,g(1),0.3077],\n",
    "    [3,0.08,28.7,g(0.2),0.528],\n",
    "    [3,0.08,31,g(0.3),0.6043],\n",
    "    [3,0.82,20.2,g(0.6),0.4109],\n",
    "    [3,0.82,19.1,g(0.8),0.5119],\n",
    "    [3,0.41,18.9,g(0.4),0.439],\n",
    "    [3,0.41,22.5,g(0.6),0.363],\n",
    "    [3,0.08,19.8,g(0.2),0.55],\n",
    "    [3,0.08,20.8,g(0.3),0.5064],\n",
    "    [3,0.41,13.5,g(0.3),0.533],\n",
    "]\n",
    "\n",
    "\n",
    "\n"
   ]
  },
  {
   "cell_type": "code",
   "execution_count": 5,
   "metadata": {},
   "outputs": [],
   "source": [
    "concatenate_data=sugrue_data+guan_data+prodanovic_data\n",
    "exp_data=pd.DataFrame(concatenate_data,columns=['P','V','DTsub','DTsup','D'])"
   ]
  },
  {
   "cell_type": "code",
   "execution_count": 6,
   "metadata": {},
   "outputs": [
    {
     "data": {
      "text/plain": [
       "<AxesSubplot:xlabel='V', ylabel='D'>"
      ]
     },
     "execution_count": 6,
     "metadata": {},
     "output_type": "execute_result"
    },
    {
     "data": {
      "image/png": "[encoded data removed]",
      "text/plain": [
       "<Figure size 432x288 with 1 Axes>"
      ]
     },
     "metadata": {
      "needs_background": "light"
     },
     "output_type": "display_data"
    }
   ],
   "source": [
    "exp_data.plot.scatter('V','D')"
   ]
  },
  {
   "cell_type": "code",
   "execution_count": 31,
   "metadata": {},
   "outputs": [],
   "source": [
    "def diameter_prediction(P,V,DTsub,DTsup,X):\n",
    "    #prédit un diamètre à partir des arguments. Il faudra mettre les paramètres aussi. X est de dimension 5\n",
    "    Tsat=steamTable.tsat_p(P)#Tsat en °C\n",
    "    Tbulk=Tsat-DTsub\n",
    "    rhof=steamTable.rho_pt(P,Tbulk)\n",
    "    rhog=steamTable.rhoV_p(P)\n",
    "    cpf=steamTable.Cp_pt(P,Tbulk)*1000\n",
    "    hfg=(steamTable.hV_p(P)-steamTable.hL_p(P))*1000\n",
    "    \n",
    "    Jasub=rhof*cpf*DTsub/(rhog*hfg)\n",
    "    Jasup=rhof*cpf*DTsup/(rhog*hfg)\n",
    "    rhorel=(rhof-rhog)/rhog\n",
    "    return X[0]*(rhorel**X[1])*(Jasup**X[2])*((1+Jasub)**X[3])*V**X[4]\n",
    "    \n",
    "    \n",
    "    \n",
    "def least_squares(par):\n",
    "    #renvoie le carré de la somme des résidus par rapport aux données expérimentales.\n",
    "    ssr=0\n",
    "    for x in range(exp_data.shape[0]):\n",
    "        ssr+=(diameter_prediction(exp_data['P'][x],exp_data['V'][x],exp_data['DTsub'][x],exp_data['DTsup'][x],par)-exp_data['D'][x]*1E-3)**2\n",
    "    return ssr/exp_data.shape[0]\n",
    "\n",
    "def compute_d(par2d):\n",
    "    #renvoie une liste de prédictions de diamètres expérimentaux.\n",
    "    #en paramètre : une liste de 3 paramètres qui sont t2,t3, p.\n",
    "    params=[par2d[0],par2d[1],0.7,-0.2,-0.3]\n",
    "    X=np.empty([exp_data.shape[0]])\n",
    "    for i in range(exp_data.shape[0]):\n",
    "        X[i]=diameter_prediction(exp_data['P'][i],exp_data['V'][i],exp_data['DTsub'][i],exp_data['DTsup'][i],params)\n",
    "    return X\n",
    "\n",
    "def create_predictions(df):\n",
    "    #génère les prédictions de diamètres expérimentaux pour un dataframe donné.\n",
    "    means=np.zeros([exp_data.shape[0]])\n",
    "    var=np.zeros([exp_data.shape[0]])\n",
    "    for index,row in df.iterrows():\n",
    "        params=[row['t2'],row['t3']]\n",
    "        Dpred=compute_d(params)\n",
    "        for i in range(exp_data.shape[0]):\n",
    "            means[i]+=Dpred[i]*row['p']\n",
    "            var[i]+=(Dpred[i]**2)*row['p']\n",
    "    var=var-np.array(means)**2\n",
    "    d={'mean':means,'var':var}\n",
    "    X=pd.DataFrame(d)\n",
    "    return X\n",
    "    "
   ]
  },
  {
   "cell_type": "code",
   "execution_count": 32,
   "metadata": {
    "scrolled": false
   },
   "outputs": [
    {
     "name": "stdout",
     "output_type": "stream",
     "text": [
      "         mean           var\n",
      "0    0.003247  8.703182e-09\n",
      "1    0.003074  7.801342e-09\n",
      "2    0.002935  7.112155e-09\n",
      "3    0.004581  1.732400e-08\n",
      "4    0.005274  2.296783e-08\n",
      "..        ...           ...\n",
      "109  0.012991  1.269975e-07\n",
      "110  0.014038  1.483885e-07\n",
      "111  0.018518  2.580865e-07\n",
      "112  0.019626  2.899522e-07\n",
      "113  0.012968  1.264067e-07\n",
      "\n",
      "[114 rows x 2 columns]\n",
      "         mean           var\n",
      "0    0.003231  4.946266e-09\n",
      "1    0.003059  4.433725e-09\n",
      "2    0.002921  4.042040e-09\n",
      "3    0.004558  9.845719e-09\n",
      "4    0.005248  1.305327e-08\n",
      "..        ...           ...\n",
      "109  0.012931  7.223054e-08\n",
      "110  0.013973  8.439634e-08\n",
      "111  0.018432  1.467880e-07\n",
      "112  0.019535  1.649115e-07\n",
      "113  0.012908  7.189514e-08\n",
      "\n",
      "[114 rows x 2 columns]\n"
     ]
    }
   ],
   "source": [
    "margopt32=pd.DataFrame(data=np.loadtxt(\"../../Calibration_Ravik/results/poptmarg32.gnu\"),columns=['t3','t2','p'])\n",
    "margkoh32=pd.DataFrame(data=np.loadtxt(\"../../Calibration_Ravik/results/pkohmarg32.gnu\"),columns=['t3','t2','p'])\n",
    "#print(margopt32['p'][margopt32['p']!=0])\n",
    "#print(margopt32['p'][37])\n",
    "margopt32['p']/=margopt32['p'].sum()\n",
    "margkoh32['p']/=margkoh32['p'].sum()\n",
    "#print(margopt32['p'].sum())\n",
    "X0=[1E-6,0.3,0.7,-0.2,-0.3]\n",
    "predFMP=create_predictions(margopt32)\n",
    "predKOH=create_predictions(margkoh32)"
   ]
  },
  {
   "cell_type": "code",
   "execution_count": 9,
   "metadata": {},
   "outputs": [
    {
     "name": "stdout",
     "output_type": "stream",
     "text": [
      "[ 1.02694640e-06  9.68613115e-01  5.44542915e-01 -5.58579638e-01\n",
      " -1.58545623e-01]\n"
     ]
    }
   ],
   "source": [
    "res=opt.minimize(least_squares,X0,method='Nelder-Mead',options={\"maxiter\":5000})\n",
    "optresult=res.x\n",
    "print(optresult)"
   ]
  },
  {
   "cell_type": "code",
   "execution_count": 95,
   "metadata": {},
   "outputs": [
    {
     "name": "stderr",
     "output_type": "stream",
     "text": [
      "The PostScript backend does not support transparency; partially transparent artists will be rendered opaque.\n",
      "The PostScript backend does not support transparency; partially transparent artists will be rendered opaque.\n",
      "The PostScript backend does not support transparency; partially transparent artists will be rendered opaque.\n",
      "The PostScript backend does not support transparency; partially transparent artists will be rendered opaque.\n"
     ]
    },
    {
     "data": {
      "image/png": "[encoded data removed]",
      "text/plain": [
       "<Figure size 864x432 with 2 Axes>"
      ]
     },
     "metadata": {
      "needs_background": "light"
     },
     "output_type": "display_data"
    }
   ],
   "source": [
    "#fait le plot des fit, pour voir si la corrélation marche bien.\n",
    "concatenate_data=sugrue_data+guan_data+prodanovic_data\n",
    "sugrue_df=pd.DataFrame(sugrue_data,columns=['P','V','DTsub','DTsup','D'])\n",
    "guan_df=pd.DataFrame(guan_data,columns=['P','V','DTsub','DTsup','D'])\n",
    "prodanovic_df=pd.DataFrame(prodanovic_data,columns=['P','V','DTsub','DTsup','D'])\n",
    "Ravikcoefs=[18.9E-6,0.27,0.75,-0.3,-0.26]\n",
    "\n",
    "\n",
    "sugrue_Dmes=np.zeros(sugrue_df.shape[0])\n",
    "sugrue_Dpred=np.zeros(sugrue_df.shape[0])\n",
    "sugrue_DpredRavik=np.zeros(sugrue_df.shape[0])\n",
    "\n",
    "for x in range(sugrue_df.shape[0]):\n",
    "    sugrue_Dmes[x]=sugrue_df['D'][x]*1E-3\n",
    "    sugrue_Dpred[x]=diameter_prediction(sugrue_df['P'][x],sugrue_df['V'][x],sugrue_df['DTsub'][x],sugrue_df['DTsup'][x],optresult)\n",
    "    sugrue_DpredRavik[x]=diameter_prediction(sugrue_df['P'][x],sugrue_df['V'][x],sugrue_df['DTsub'][x],sugrue_df['DTsup'][x],Ravikcoefs)\n",
    "\n",
    "guan_Dmes=np.zeros(guan_df.shape[0])\n",
    "guan_Dpred=np.zeros(guan_df.shape[0])\n",
    "guan_DpredRavik=np.zeros(guan_df.shape[0])\n",
    "\n",
    "for x in range(guan_df.shape[0]):\n",
    "    guan_Dmes[x]=guan_df['D'][x]*1E-3\n",
    "    guan_Dpred[x]=diameter_prediction(guan_df['P'][x],guan_df['V'][x],guan_df['DTsub'][x],guan_df['DTsup'][x],optresult)\n",
    "    guan_DpredRavik[x]=diameter_prediction(guan_df['P'][x],guan_df['V'][x],guan_df['DTsub'][x],guan_df['DTsup'][x],Ravikcoefs)\n",
    "\n",
    "prodanovic_Dmes=np.zeros(prodanovic_df.shape[0])\n",
    "prodanovic_Dpred=np.zeros(prodanovic_df.shape[0])\n",
    "prodanovic_DpredRavik=np.zeros(prodanovic_df.shape[0])\n",
    "\n",
    "for x in range(prodanovic_df.shape[0]):\n",
    "    prodanovic_Dmes[x]=prodanovic_df['D'][x]*1E-3\n",
    "    prodanovic_Dpred[x]=diameter_prediction(prodanovic_df['P'][x],prodanovic_df['V'][x],prodanovic_df['DTsub'][x],prodanovic_df['DTsup'][x],optresult)\n",
    "    prodanovic_DpredRavik[x]=diameter_prediction(prodanovic_df['P'][x],prodanovic_df['V'][x],prodanovic_df['DTsub'][x],prodanovic_df['DTsup'][x],Ravikcoefs)\n",
    "\n",
    "\n",
    "    \n",
    "lims=[0.0001,0.0025]\n",
    "plt.figure(figsize=(12,6))\n",
    "plt.subplot(121)\n",
    "plt.xlim(lims)\n",
    "plt.ylim(lims)\n",
    "plt.xscale(\"log\")\n",
    "plt.yscale(\"log\")\n",
    "plt.scatter(sugrue_Dmes,sugrue_Dpred,label='Sugrue data')\n",
    "plt.scatter(guan_Dmes,guan_Dpred,label='Guan data')\n",
    "plt.scatter(prodanovic_Dmes,prodanovic_Dpred,label='Prodanovic data')\n",
    "plt.xlabel(r'$D_{mesure}$')\n",
    "plt.ylabel(r'$D_{pred}$')\n",
    "plt.title('Prédictions avec nos coefficients fittés')\n",
    "plt.legend()\n",
    "plt.plot(lims,lims,color='black')\n",
    "\n",
    "plt.subplot(122)\n",
    "plt.xlim(lims)\n",
    "plt.ylim(lims)\n",
    "plt.xscale(\"log\")\n",
    "plt.yscale(\"log\")\n",
    "plt.scatter(sugrue_Dmes,sugrue_DpredRavik,label='Sugrue data')\n",
    "plt.scatter(guan_Dmes,guan_DpredRavik,label='Guan data')\n",
    "plt.scatter(prodanovic_Dmes,prodanovic_DpredRavik,label='Prodanovic data')\n",
    "plt.xlabel(r'$D_{mesure}$')\n",
    "plt.ylabel(r'$D_{pred}$')\n",
    "plt.title('Prédictions avec les coefficients de Ravik')\n",
    "plt.legend()\n",
    "plt.plot(lims,lims,color='black')\n",
    "\n",
    "plt.savefig(\"correlation.eps\")\n",
    "\n",
    "\n",
    "plt.show()\n"
   ]
  },
  {
   "cell_type": "code",
   "execution_count": 85,
   "metadata": {},
   "outputs": [
    {
     "data": {
      "image/png": "[encoded data removed]",
      "text/plain": [
       "<Figure size 432x432 with 1 Axes>"
      ]
     },
     "metadata": {
      "needs_background": "light"
     },
     "output_type": "display_data"
    }
   ],
   "source": [
    "#fait le plot des fit avec la solution Ravik\n",
    "concatenate_data=sugrue_data+guan_data+prodanovic_data\n",
    "sugrue_df=pd.DataFrame(sugrue_data,columns=['P','V','DTsub','DTsup','D'])\n",
    "guan_df=pd.DataFrame(guan_data,columns=['P','V','DTsub','DTsup','D'])\n",
    "prodanovic_df=pd.DataFrame(prodanovic_data,columns=['P','V','DTsub','DTsup','D'])\n",
    "\n",
    "sugrue_Dmes=np.zeros(sugrue_df.shape[0])\n",
    "sugrue_DpredFMP=np.zeros(sugrue_df.shape[0])\n",
    "sugrue_DpredKOH=np.zeros(sugrue_df.shape[0])\n",
    "\n",
    "for x in range(sugrue_df.shape[0]):\n",
    "    sugrue_Dmes[x]=sugrue_df['D'][x]*1E-3\n",
    "    sugrue_DpredFMP[x]=diameter_prediction(sugrue_df['P'][x],sugrue_df['V'][x],sugrue_df['DTsub'][x],sugrue_df['DTsup'][x],optresult)\n",
    "    sugrue_DpredKOH[x]=diameter_prediction(sugrue_df['P'][x],sugrue_df['V'][x],sugrue_df['DTsub'][x],sugrue_df['DTsup'][x],Ravikcoefs)\n",
    "\n",
    "guan_Dmes=np.zeros(guan_df.shape[0])\n",
    "guan_DpredFMP=np.zeros(guan_df.shape[0])\n",
    "guan_DpredKOH=np.zeros(guan_df.shape[0])\n",
    "\n",
    "for x in range(guan_df.shape[0]):\n",
    "    guan_Dmes[x]=guan_df['D'][x]*1E-3\n",
    "    guan_DpredFMP[x]=diameter_prediction(guan_df['P'][x],guan_df['V'][x],guan_df['DTsub'][x],guan_df['DTsup'][x],optresult)\n",
    "    guan_DpredKOH[x]=diameter_prediction(guan_df['P'][x],guan_df['V'][x],guan_df['DTsub'][x],guan_df['DTsup'][x],Ravikcoefs)\n",
    "\n",
    "prodanovic_Dmes=np.zeros(prodanovic_df.shape[0])\n",
    "prodanovic_DpreFMP=np.zeros(prodanovic_df.shape[0])\n",
    "prodanovic_DpredKOH=np.zeros(prodanovic_df.shape[0])\n",
    "\n",
    "for x in range(prodanovic_df.shape[0]):\n",
    "    prodanovic_Dmes[x]=prodanovic_df['D'][x]*1E-3\n",
    "    prodanovic_DpredFMP[x]=diameter_prediction(prodanovic_df['P'][x],prodanovic_df['V'][x],prodanovic_df['DTsub'][x],prodanovic_df['DTsup'][x],optresult)\n",
    "    prodanovic_DpredKOH[x]=diameter_prediction(prodanovic_df['P'][x],prodanovic_df['V'][x],prodanovic_df['DTsub'][x],prodanovic_df['DTsup'][x],Ravikcoefs)\n",
    "\n",
    "\n",
    "Dmes=np.zeros(exp_data.shape[0])\n",
    "Dpred=np.zeros(exp_data.shape[0])\n",
    "for x in range(exp_data.shape[0]):\n",
    "    Dmes[x]=exp_data['D'][x]*1E-3\n",
    "    Dpred[x]=diameter_prediction(exp_data['P'][x],exp_data['V'][x],exp_data['DTsub'][x],exp_data['DTsup'][x],Ravikcoefs)\n",
    "\n",
    "    \n",
    "lims=[0.0001,0.0018]\n",
    "plt.figure(figsize=(6,6))\n",
    "plt.xlim(lims)\n",
    "plt.ylim(lims)\n",
    "plt.xscale(\"log\")\n",
    "plt.yscale(\"log\")\n",
    "plt.scatter(sugrue_Dmes,sugrue_DpredRavik,label='Sugrue data')\n",
    "plt.scatter(guan_Dmes,guan_DpredRavik,label='Guan data')\n",
    "plt.scatter(prodanovic_Dmes,prodanovic_DpredRavik,label='Prodanovic data')\n",
    "plt.plot(lims,lims)\n",
    "plt.show()"
   ]
  },
  {
   "cell_type": "code",
   "execution_count": null,
   "metadata": {},
   "outputs": [],
   "source": []
  }
 ],
 "metadata": {
  "kernelspec": {
   "display_name": "Python 3",
   "language": "python",
   "name": "python3"
  },
  "language_info": {
   "codemirror_mode": {
    "name": "ipython",
    "version": 3
   },
   "file_extension": ".py",
   "mimetype": "text/x-python",
   "name": "python",
   "nbconvert_exporter": "python",
   "pygments_lexer": "ipython3",
   "version": "3.8.5"
  }
 },
 "nbformat": 4,
 "nbformat_minor": 4
}
